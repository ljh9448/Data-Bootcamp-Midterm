{
  "nbformat": 4,
  "nbformat_minor": 0,
  "metadata": {
    "colab": {
      "provenance": []
    },
    "kernelspec": {
      "name": "python3",
      "display_name": "Python 3"
    },
    "language_info": {
      "name": "python"
    }
  },
  "cells": [
    {
      "cell_type": "markdown",
      "source": [
        "## Add markdown cells"
      ],
      "metadata": {
        "id": "stvZ4hX4PT-F"
      }
    },
    {
      "cell_type": "code",
      "execution_count": 2,
      "metadata": {
        "id": "CThGz23lqIm5"
      },
      "outputs": [],
      "source": [
        "import requests\n",
        "import numpy as np\n",
        "import pandas as pd\n",
        "import matplotlib.pyplot as plt\n",
        "import seaborn as sns\n",
        "from bs4 import BeautifulSoup"
      ]
    },
    {
      "cell_type": "code",
      "source": [
        "pip install nba_api"
      ],
      "metadata": {
        "id": "JD_sVFgr1-Cc",
        "colab": {
          "base_uri": "https://localhost:8080/"
        },
        "outputId": "3f3bce92-d491-4ae5-f81d-bcb076e8dd8b"
      },
      "execution_count": 3,
      "outputs": [
        {
          "output_type": "stream",
          "name": "stdout",
          "text": [
            "Collecting nba_api\n",
            "  Downloading nba_api-1.10.2-py3-none-any.whl.metadata (5.8 kB)\n",
            "Requirement already satisfied: numpy>=1.26.0 in /usr/local/lib/python3.12/dist-packages (from nba_api) (2.0.2)\n",
            "Requirement already satisfied: pandas>=2.2.0 in /usr/local/lib/python3.12/dist-packages (from nba_api) (2.2.2)\n",
            "Requirement already satisfied: requests<3.0.0,>=2.32.3 in /usr/local/lib/python3.12/dist-packages (from nba_api) (2.32.4)\n",
            "Requirement already satisfied: python-dateutil>=2.8.2 in /usr/local/lib/python3.12/dist-packages (from pandas>=2.2.0->nba_api) (2.9.0.post0)\n",
            "Requirement already satisfied: pytz>=2020.1 in /usr/local/lib/python3.12/dist-packages (from pandas>=2.2.0->nba_api) (2025.2)\n",
            "Requirement already satisfied: tzdata>=2022.7 in /usr/local/lib/python3.12/dist-packages (from pandas>=2.2.0->nba_api) (2025.2)\n",
            "Requirement already satisfied: charset_normalizer<4,>=2 in /usr/local/lib/python3.12/dist-packages (from requests<3.0.0,>=2.32.3->nba_api) (3.4.4)\n",
            "Requirement already satisfied: idna<4,>=2.5 in /usr/local/lib/python3.12/dist-packages (from requests<3.0.0,>=2.32.3->nba_api) (3.11)\n",
            "Requirement already satisfied: urllib3<3,>=1.21.1 in /usr/local/lib/python3.12/dist-packages (from requests<3.0.0,>=2.32.3->nba_api) (2.5.0)\n",
            "Requirement already satisfied: certifi>=2017.4.17 in /usr/local/lib/python3.12/dist-packages (from requests<3.0.0,>=2.32.3->nba_api) (2025.10.5)\n",
            "Requirement already satisfied: six>=1.5 in /usr/local/lib/python3.12/dist-packages (from python-dateutil>=2.8.2->pandas>=2.2.0->nba_api) (1.17.0)\n",
            "Downloading nba_api-1.10.2-py3-none-any.whl (286 kB)\n",
            "\u001b[?25l   \u001b[90m━━━━━━━━━━━━━━━━━━━━━━━━━━━━━━━━━━━━━━━━\u001b[0m \u001b[32m0.0/287.0 kB\u001b[0m \u001b[31m?\u001b[0m eta \u001b[36m-:--:--\u001b[0m\r\u001b[2K   \u001b[90m━━━━━━━━━━━━━━━━━━━━━━━━━━━━━━━━━━━━━━━━\u001b[0m \u001b[32m287.0/287.0 kB\u001b[0m \u001b[31m9.3 MB/s\u001b[0m eta \u001b[36m0:00:00\u001b[0m\n",
            "\u001b[?25hInstalling collected packages: nba_api\n",
            "Successfully installed nba_api-1.10.2\n"
          ]
        }
      ]
    },
    {
      "cell_type": "markdown",
      "source": [
        "## This code sets up data retrieval."
      ],
      "metadata": {
        "id": "y0RTkAn9xzp_"
      }
    },
    {
      "cell_type": "code",
      "source": [
        "# A list to guide our DataFrame\n",
        "full_team_list=['Atlanta Hawks', 'Boston Celtics', 'Brooklyn Nets', 'Charlotte Hornets', 'Chicago Bulls', 'Cleveland Cavaliers', 'Dallas Mavericks', 'Denver Nuggets', 'Detroit Pistons', 'Golden State Warriors', 'Houston Rockets', 'Indiana Pacers', 'LA Clippers', 'Los Angeles Lakers', 'Memphis Grizzlies', 'Miami Heat', 'Milwaukee Bucks', 'Minnesota Timberwolves', 'New Orleans Pelicans', 'New York Knicks', 'Oklahoma City Thunder', 'Orlando Magic', 'Portland Trail Blazers', 'Philadelphia 76ers', 'Phoenix Suns', 'Sacramento Kings', 'San Antonio Spurs', 'Toronto Raptors', 'Utah Jazz', 'Washington Wizards']\n",
        "\n",
        "pd.set_option('display.max.columns', None)\n",
        "pd.set_option('display.width', 1000)\n",
        "\n",
        "# Import the leaguedashteamstats module\n",
        "from nba_api.stats.endpoints import leaguedashteamstats\n",
        "\n",
        "# Call the advanced team stats from the 2022-23 season\n",
        "advStats21_22 = leaguedashteamstats.LeagueDashTeamStats(season='2021-22', per_mode_detailed='Per100Possessions', measure_type_detailed_defense='Advanced')\n",
        "# Create a DF\n",
        "advStats2021_2022_df = advStats21_22.get_data_frames()[0]\n",
        "\n",
        "# Create new DF of only NBA teams\n",
        "advStatsNBA21_22df = advStats2021_2022_df[advStats2021_2022_df['TEAM_NAME'].isin(full_team_list)].copy()\n",
        "advStatsNBA21_22df.reset_index(drop=True, inplace=True)\n",
        "\n",
        "advStatsNBA21_22_cols = [\n",
        "    'TEAM_NAME',\n",
        "    'W_PCT',\n",
        "    'OFF_RATING',\n",
        "    'DEF_RATING',\n",
        "    'NET_RATING',\n",
        "    'AST_PCT',\n",
        "    'AST_TO',\n",
        "    'OREB_PCT',\n",
        "    'DREB_PCT',\n",
        "    'EFG_PCT',\n",
        "    'TS_PCT',\n",
        "    'PACE']\n",
        "\n",
        "# Create cleaner DF only focusing on certain variables\n",
        "advStatsNBA21_22df_slim=advStatsNBA21_22df[advStatsNBA21_22_cols].copy()\n",
        "advStatsNBA21_22df_slim.reset_index(drop=True, inplace=True)\n",
        "print(advStatsNBA21_22df_slim)"
      ],
      "metadata": {
        "id": "OgAqKfWc6bwv",
        "colab": {
          "base_uri": "https://localhost:8080/"
        },
        "outputId": "f6e90c3d-7168-4f16-f089-36ef2523a6f4"
      },
      "execution_count": 4,
      "outputs": [
        {
          "output_type": "stream",
          "name": "stdout",
          "text": [
            "                 TEAM_NAME  W_PCT  OFF_RATING  DEF_RATING  NET_RATING  AST_PCT  AST_TO  OREB_PCT  DREB_PCT  EFG_PCT  TS_PCT    PACE\n",
            "0            Atlanta Hawks  0.517       114.8       113.5         1.3    0.596    2.02     0.270     0.727    0.542   0.579   98.71\n",
            "1           Boston Celtics  0.632       113.2       105.6         7.6    0.613    1.80     0.276     0.725    0.543   0.578   97.69\n",
            "2            Brooklyn Nets  0.540       112.3       111.6         0.8    0.596    1.72     0.287     0.703    0.533   0.571   99.78\n",
            "3        Charlotte Hornets  0.494       112.8       112.8         0.0    0.654    2.01     0.276     0.703    0.541   0.570  100.63\n",
            "4            Chicago Bulls  0.552       111.8       112.4        -0.6    0.572    1.82     0.253     0.733    0.535   0.573   99.09\n",
            "5      Cleveland Cavaliers  0.529       110.5       108.7         1.8    0.631    1.73     0.278     0.720    0.534   0.568   97.04\n",
            "6         Dallas Mavericks  0.609       111.6       108.8         2.8    0.593    1.82     0.259     0.729    0.534   0.567   95.68\n",
            "7           Denver Nuggets  0.575       113.0       111.3         1.7    0.663    1.86     0.269     0.747    0.553   0.586   98.67\n",
            "8          Detroit Pistons  0.299       105.4       112.7        -7.3    0.611    1.61     0.277     0.705    0.495   0.533   99.05\n",
            "9    Golden State Warriors  0.629       111.0       105.9         5.1    0.664    1.77     0.270     0.731    0.547   0.577   99.12\n",
            "10         Houston Rockets  0.264       107.7       115.5        -7.8    0.599    1.42     0.271     0.707    0.530   0.561  101.38\n",
            "11          Indiana Pacers  0.322       111.6       114.2        -2.6    0.609    1.72     0.310     0.723    0.530   0.563   98.63\n",
            "12             LA Clippers  0.494       108.8       109.2        -0.4    0.600    1.72     0.258     0.702    0.528   0.560   98.77\n",
            "13      Los Angeles Lakers  0.416       109.1       111.9        -2.8    0.578    1.62     0.263     0.716    0.530   0.561  100.52\n",
            "14       Memphis Grizzlies  0.678       113.2       108.0         5.2    0.598    1.92     0.336     0.726    0.519   0.549  100.91\n",
            "15              Miami Heat  0.640       112.1       107.7         4.4    0.639    1.69     0.282     0.732    0.543   0.580   96.93\n",
            "16         Milwaukee Bucks  0.598       113.3       110.8         2.5    0.572    1.71     0.274     0.744    0.541   0.576  100.75\n",
            "17  Minnesota Timberwolves  0.575       113.0       110.1         2.9    0.615    1.75     0.283     0.704    0.536   0.571  101.48\n",
            "18    New Orleans Pelicans  0.471       110.4       110.3         0.1    0.624    1.76     0.303     0.740    0.516   0.555   98.35\n",
            "19         New York Knicks  0.466       109.9       110.0        -0.1    0.581    1.64     0.293     0.738    0.514   0.551   96.57\n",
            "20   Oklahoma City Thunder  0.299       103.2       111.1        -7.9    0.579    1.57     0.257     0.728    0.495   0.527   99.62\n",
            "21           Orlando Magic  0.276       103.5       111.6        -8.1    0.620    1.62     0.251     0.734    0.500   0.535   99.87\n",
            "22      Philadelphia 76ers  0.621       112.6       109.7         2.8    0.598    1.86     0.249     0.722    0.532   0.576   97.16\n",
            "23            Phoenix Suns  0.759       113.3       106.2         7.2    0.626    2.06     0.272     0.728    0.542   0.574  100.09\n",
            "24  Portland Trail Blazers  0.333       106.7       115.5        -8.8    0.593    1.55     0.267     0.717    0.514   0.548   98.89\n",
            "25        Sacramento Kings  0.393       109.1       113.1        -4.0    0.576    1.64     0.264     0.711    0.522   0.557  100.12\n",
            "26       San Antonio Spurs  0.389       110.6       111.4        -0.8    0.638    2.10     0.279     0.708    0.522   0.552  100.83\n",
            "27         Toronto Raptors  0.598       111.4       108.9         2.5    0.540    1.72     0.327     0.713    0.508   0.540   97.06\n",
            "28               Utah Jazz  0.598       115.5       109.4         6.0    0.552    1.56     0.302     0.734    0.552   0.586   97.46\n",
            "29      Washington Wizards  0.419       109.2       112.6        -3.4    0.616    1.84     0.246     0.730    0.528   0.565   98.14\n"
          ]
        }
      ]
    },
    {
      "cell_type": "markdown",
      "source": [
        "## This code retrieves similar advanced team metrics, but defensively oriented."
      ],
      "metadata": {
        "id": "SWHfhXwSyN2M"
      }
    },
    {
      "cell_type": "code",
      "source": [
        "DEFstats21_22 = leaguedashteamstats.LeagueDashTeamStats(season='2021-22', measure_type_detailed_defense='Opponent', per_mode_detailed='Per100Possessions')\n",
        "DEFstats21_22df = DEFstats21_22.get_data_frames()[0]\n",
        "\n",
        "DEFstatsNBA21_22df = DEFstats21_22df[DEFstats21_22df['TEAM_NAME'].isin(full_team_list)].copy()\n",
        "DEFstatsNBA21_22df.reset_index(drop=True, inplace=True)\n",
        "\n",
        "DEFstatsNBA21_22_cols = [\n",
        "    'TEAM_NAME',\n",
        "    'OPP_FG_PCT',\n",
        "    'OPP_FG3_PCT',\n",
        "    'OPP_TOV',\n",
        "    'OPP_BLK',\n",
        "    'PLUS_MINUS']\n",
        "\n",
        "DEFstatsNBA21_22df_slim=DEFstatsNBA21_22df[DEFstatsNBA21_22_cols].copy()\n",
        "DEFstatsNBA21_22df_slim.reset_index(drop=True, inplace=True)\n",
        "print(DEFstatsNBA21_22df_slim)"
      ],
      "metadata": {
        "colab": {
          "base_uri": "https://localhost:8080/"
        },
        "id": "SG66P15itM_j",
        "outputId": "f4f04553-8a6a-42d6-d8ff-5d779cd8ed2a"
      },
      "execution_count": 5,
      "outputs": [
        {
          "output_type": "stream",
          "name": "stdout",
          "text": [
            "                 TEAM_NAME  OPP_FG_PCT  OPP_FG3_PCT  OPP_TOV  OPP_BLK  PLUS_MINUS\n",
            "0            Atlanta Hawks       0.468        0.362     13.0      4.5        -1.2\n",
            "1           Boston Celtics       0.433        0.336     14.2      4.7        -7.6\n",
            "2            Brooklyn Nets       0.450        0.343     13.6      5.1        -0.6\n",
            "3        Charlotte Hornets       0.466        0.359     14.9      4.7         0.1\n",
            "4            Chicago Bulls       0.470        0.360     13.3      5.2         0.5\n",
            "5      Cleveland Cavaliers       0.450        0.352     13.9      4.8        -1.9\n",
            "6         Dallas Mavericks       0.456        0.340     13.8      4.1        -2.8\n",
            "7           Denver Nuggets       0.469        0.348     13.3      4.8        -1.7\n",
            "8          Detroit Pistons       0.469        0.360     14.7      5.3         7.4\n",
            "9    Golden State Warriors       0.436        0.338     15.0      4.0        -5.2\n",
            "10         Houston Rockets       0.480        0.349     14.1      5.9         7.9\n",
            "11          Indiana Pacers       0.479        0.367     13.8      4.9         2.5\n",
            "12             LA Clippers       0.448        0.342     13.8      4.2         0.3\n",
            "13      Los Angeles Lakers       0.468        0.348     14.3      4.2         2.9\n",
            "14       Memphis Grizzlies       0.451        0.343     14.9      6.0        -5.5\n",
            "15              Miami Heat       0.444        0.338     15.6      4.2        -4.3\n",
            "16         Milwaukee Bucks       0.456        0.354     13.1      4.4        -2.6\n",
            "17  Minnesota Timberwolves       0.457        0.345     16.2      4.8        -2.7\n",
            "18    New Orleans Pelicans       0.465        0.360     14.8      4.8         0.1\n",
            "19         New York Knicks       0.446        0.345     13.2      4.8        -0.2\n",
            "20   Oklahoma City Thunder       0.457        0.351     13.3      6.1         8.0\n",
            "21           Orlando Magic       0.457        0.361     13.3      5.2         8.0\n",
            "22      Philadelphia 76ers       0.459        0.345     13.9      4.8        -2.7\n",
            "23            Phoenix Suns       0.442        0.338     14.7      4.1        -7.2\n",
            "24  Portland Trail Blazers       0.475        0.365     14.4      5.2         8.7\n",
            "25        Sacramento Kings       0.475        0.363     14.1      4.9         4.3\n",
            "26       San Antonio Spurs       0.465        0.357     13.8      4.8         0.9\n",
            "27         Toronto Raptors       0.457        0.353     16.4      5.3        -2.6\n",
            "28               Utah Jazz       0.449        0.350     12.4      4.4        -6.1\n",
            "29      Washington Wizards       0.462        0.358     12.4      4.4         3.5\n"
          ]
        }
      ]
    },
    {
      "cell_type": "code",
      "source": [
        "advStats22_23 = leaguedashteamstats.LeagueDashTeamStats(season='2022-23', per_mode_detailed='Per100Possessions', measure_type_detailed_defense='Advanced')\n",
        "advStats22_23df = advStats22_23.get_data_frames()[0]\n",
        "\n",
        "advStatsNBA22_23df = advStats22_23df[advStats22_23df['TEAM_NAME'].isin(full_team_list)].copy()\n",
        "advStatsNBA22_23df.reset_index(drop=True, inplace=True)\n",
        "\n",
        "advStatsNBA22_23_cols = [\n",
        "    'TEAM_NAME',\n",
        "    'W_PCT']\n",
        "\n",
        "advStatsNBA22_23df_slim=advStatsNBA22_23df[advStatsNBA22_23_cols].copy()\n",
        "advStatsNBA22_23df_slim.reset_index(drop=True, inplace=True)\n",
        "print(advStatsNBA22_23df_slim)\n",
        "\n"
      ],
      "metadata": {
        "colab": {
          "base_uri": "https://localhost:8080/"
        },
        "id": "j9tJ12M2p9-v",
        "outputId": "2acf3df7-1d06-4c3a-ed7c-64b3a684e1e1"
      },
      "execution_count": 6,
      "outputs": [
        {
          "output_type": "stream",
          "name": "stdout",
          "text": [
            "                 TEAM_NAME  W_PCT\n",
            "0            Atlanta Hawks  0.494\n",
            "1           Boston Celtics  0.690\n",
            "2            Brooklyn Nets  0.552\n",
            "3        Charlotte Hornets  0.333\n",
            "4            Chicago Bulls  0.506\n",
            "5      Cleveland Cavaliers  0.621\n",
            "6         Dallas Mavericks  0.437\n",
            "7           Denver Nuggets  0.632\n",
            "8          Detroit Pistons  0.230\n",
            "9    Golden State Warriors  0.500\n",
            "10         Houston Rockets  0.276\n",
            "11          Indiana Pacers  0.425\n",
            "12             LA Clippers  0.529\n",
            "13      Los Angeles Lakers  0.533\n",
            "14       Memphis Grizzlies  0.611\n",
            "15              Miami Heat  0.522\n",
            "16         Milwaukee Bucks  0.701\n",
            "17  Minnesota Timberwolves  0.506\n",
            "18    New Orleans Pelicans  0.517\n",
            "19         New York Knicks  0.575\n",
            "20   Oklahoma City Thunder  0.500\n",
            "21           Orlando Magic  0.414\n",
            "22      Philadelphia 76ers  0.644\n",
            "23            Phoenix Suns  0.552\n",
            "24  Portland Trail Blazers  0.425\n",
            "25        Sacramento Kings  0.600\n",
            "26       San Antonio Spurs  0.264\n",
            "27         Toronto Raptors  0.517\n",
            "28               Utah Jazz  0.444\n",
            "29      Washington Wizards  0.437\n"
          ]
        }
      ]
    },
    {
      "cell_type": "markdown",
      "source": [
        "## Here, we use a separate API for age data."
      ],
      "metadata": {
        "id": "r6wfl7SKybIY"
      }
    },
    {
      "cell_type": "code",
      "source": [
        "!pip install opendatasets --quiet\n",
        "import opendatasets as od\n",
        "import pandas as pd\n",
        "\n",
        "\n",
        "od.download(\"https://www.kaggle.com/datasets/justinas/nba-players-data\")\n",
        "\n",
        "\n",
        "kaggle_df = pd.read_csv(\"nba-players-data/all_seasons.csv\")\n",
        "kaggle_df_2022 = kaggle_df[kaggle_df['season'] == '2021-22'] ### Average team age for 2022 season\n",
        "team_age = kaggle_df_2022.groupby('team_abbreviation')['age'].mean().reset_index()\n",
        "team_names = {\n",
        "   'ATL': 'Atlanta Hawks',\n",
        "   'BOS': 'Boston Celtics',\n",
        "   'BRK': 'Brooklyn Nets',\n",
        "   'BKN': 'Brooklyn Nets',\n",
        "   'CHA': 'Charlotte Hornets',\n",
        "   'CHI': 'Chicago Bulls',\n",
        "   'CLE': 'Cleveland Cavaliers',\n",
        "   'DAL': 'Dallas Mavericks',\n",
        "   'DEN': 'Denver Nuggets',\n",
        "   'DET': 'Detroit Pistons',\n",
        "   'GSW': 'Golden State Warriors',\n",
        "   'HOU': 'Houston Rockets',\n",
        "   'IND': 'Indiana Pacers',\n",
        "   'LAC': 'Los Angeles Clippers',\n",
        "   'LAL': 'Los Angeles Lakers',\n",
        "   'MEM': 'Memphis Grizzlies',\n",
        "   'MIA': 'Miami Heat',\n",
        "   'MIL': 'Milwaukee Bucks',\n",
        "   'MIN': 'Minnesota Timberwolves',\n",
        "   'NOP': 'New Orleans Pelicans',\n",
        "   'NOH': 'New Orleans Hornets',\n",
        "   'NYK': 'New York Knicks',\n",
        "   'OKC': 'Oklahoma City Thunder',\n",
        "   'ORL': 'Orlando Magic',\n",
        "   'PHI': 'Philadelphia 76ers',\n",
        "   'PHX': 'Phoenix Suns',\n",
        "   'POR': 'Portland Trail Blazers',\n",
        "   'SAC': 'Sacramento Kings',\n",
        "   'SAS': 'San Antonio Spurs',\n",
        "   'TOR': 'Toronto Raptors',\n",
        "   'UTA': 'Utah Jazz',\n",
        "   'WAS': 'Washington Wizards'\n",
        "}\n",
        "team_age['team_name'] = team_age['team_abbreviation'].map(team_names)\n",
        "team_age = team_age[['team_name', 'age']]\n",
        "age_df = pd.DataFrame(team_age)\n",
        "print(age_df)"
      ],
      "metadata": {
        "colab": {
          "base_uri": "https://localhost:8080/"
        },
        "id": "PnOcp5_QwIFX",
        "outputId": "0f44416d-01e4-4b77-ac35-d712a481f06f"
      },
      "execution_count": 7,
      "outputs": [
        {
          "output_type": "stream",
          "name": "stdout",
          "text": [
            "Please provide your Kaggle credentials to download this dataset. Learn more: http://bit.ly/kaggle-creds\n",
            "Your Kaggle username: emilianoeguez\n",
            "Your Kaggle Key: ··········\n",
            "Dataset URL: https://www.kaggle.com/datasets/justinas/nba-players-data\n",
            "Downloading nba-players-data.zip to ./nba-players-data\n"
          ]
        },
        {
          "output_type": "stream",
          "name": "stderr",
          "text": [
            "100%|██████████| 564k/564k [00:00<00:00, 502MB/s]"
          ]
        },
        {
          "output_type": "stream",
          "name": "stdout",
          "text": [
            "\n",
            "                 team_name        age\n",
            "0            Atlanta Hawks  26.142857\n",
            "1            Brooklyn Nets  28.470588\n",
            "2           Boston Celtics  27.227273\n",
            "3        Charlotte Hornets  25.117647\n",
            "4            Chicago Bulls  25.650000\n",
            "5      Cleveland Cavaliers  26.045455\n",
            "6         Dallas Mavericks  27.095238\n",
            "7           Denver Nuggets  27.200000\n",
            "8          Detroit Pistons  24.520000\n",
            "9    Golden State Warriors  28.250000\n",
            "10         Houston Rockets  23.812500\n",
            "11          Indiana Pacers  25.550000\n",
            "12    Los Angeles Clippers  27.375000\n",
            "13      Los Angeles Lakers  29.190476\n",
            "14       Memphis Grizzlies  24.181818\n",
            "15              Miami Heat  28.000000\n",
            "16         Milwaukee Bucks  28.315789\n",
            "17  Minnesota Timberwolves  24.882353\n",
            "18    New Orleans Pelicans  26.388889\n",
            "19         New York Knicks  26.380952\n",
            "20   Oklahoma City Thunder  24.192308\n",
            "21           Orlando Magic  24.571429\n",
            "22      Philadelphia 76ers  26.421053\n",
            "23            Phoenix Suns  27.500000\n",
            "24  Portland Trail Blazers  25.166667\n",
            "25        Sacramento Kings  26.050000\n",
            "26       San Antonio Spurs  24.388889\n",
            "27         Toronto Raptors  24.950000\n",
            "28               Utah Jazz  27.500000\n",
            "29      Washington Wizards  25.652174\n"
          ]
        },
        {
          "output_type": "stream",
          "name": "stderr",
          "text": [
            "\n"
          ]
        }
      ]
    },
    {
      "cell_type": "markdown",
      "source": [
        "## Try and scrape salary data and integrate it into the DF\n",
        "\n",
        "> Add blockquote\n",
        "\n"
      ],
      "metadata": {
        "id": "pb4-N9kUYa1c"
      }
    },
    {
      "cell_type": "code",
      "source": [
        "import time\n",
        "import pandas as pd\n",
        "import numpy as np"
      ],
      "metadata": {
        "id": "3vTcMDQ3BKkU"
      },
      "execution_count": 8,
      "outputs": []
    },
    {
      "cell_type": "code",
      "source": [
        "season_code_21_22 = 2021  # scrape two seasons\n",
        "                           # 2021–22\n",
        "season_code_22_23 = 2022   # 2022–23\n",
        "\n",
        "                            # read the main Spotrac table from a page\n",
        "def read_spotrac_table(url):\n",
        "    tables = pd.read_html(url)\n",
        "    tables.sort(key=lambda d: d.shape[1], reverse=True)  #help from gemini\n",
        "    return tables[0].copy()\n",
        "\n",
        "def clean_money_col(s):     # from gemini to help make money figures cleaner\n",
        "    return (s.astype(str)\n",
        "             .str.replace(r\"[^0-9.\\-]\", \"\", regex=True)\n",
        "             .replace({\"\": np.nan, \"-\": \"0\"})\n",
        "             .astype(float))\n",
        "\n",
        "team_name_fixes = {     # a couple of name fixes to ensure merges work\n",
        "    \"LA Clippers\": \"Los Angeles Clippers\",\n",
        "    \"LA Lakers\": \"Los Angeles Lakers\",\n",
        "    \"New Orleans\": \"New Orleans Pelicans\",\n",
        "    \"Golden State\": \"Golden State Warriors\",\n",
        "    \"Portland\": \"Portland Trail Blazers\",\n",
        "    \"NY Knicks\": \"New York Knicks\",\n",
        "    \"OKC Thunder\": \"Oklahoma City Thunder\",\n",
        "}"
      ],
      "metadata": {
        "id": "15eppTYzBX93"
      },
      "execution_count": 47,
      "outputs": []
    },
    {
      "cell_type": "code",
      "source": [
        "def get_spending_for_season(season_code):\n",
        "    cap_url  = f\"https://www.spotrac.com/nba/cap/_/year/{season_code}\"\n",
        "    tax_url  = f\"https://www.spotrac.com/nba/tax/_/year/{season_code}/\"\n",
        "    cash_url = f\"https://www.spotrac.com/nba/cash/_/year/{season_code}\"\n",
        "\n",
        "    cap_df  = read_spotrac_table(cap_url);  # read tables\n",
        "    tax_df  = read_spotrac_table(tax_url);  
        "    cash_df = read_spotrac_table(cash_url); 
        "\n",
        "    def prep(df):         # rename Team column and fix names\n",
        "        team_col = [c for c in df.columns if \"team\" in c.lower()]\n",
        "        team_col = team_col[0] if team_col else df.columns[0]\n",
        "        df = df.rename(columns={team_col: \"TEAM_NAME\"}).copy()\n",
        "        df[\"TEAM_NAME\"] = df[\"TEAM_NAME\"].replace(team_name_fixes)\n",
        "        return df\n",
        "\n",
        "    cap_df  = prep(cap_df)\n",
        "    tax_df  = prep(tax_df)\n",
        "    cash_df = prep(cash_df)\n",
        "\n",
        "    keep_cap  = [\"TEAM_NAME\", \"Active\", \"Dead\", \"Retained\", \"Cap Space All\"]\n",
        "    keep_tax  = [\"TEAM_NAME\", \"Space\", \"Tax Bill\", \"Total Tax Payroll + Bill\"]\n",
        "    keep_cash = [\"TEAM_NAME\", \"Total Cash\"]\n",
        "\n",
        "    cap_df  = cap_df[[c for c in keep_cap  if c in cap_df.columns]].copy()\n",
        "    tax_df  = tax_df[[c for c in keep_tax  if c in tax_df.columns]].copy()\n",
        "    cash_df = cash_df[[c for c in keep_cash if c in cash_df.columns]].copy()\n",
        "\n",
        "    for df in [cap_df, tax_df, cash_df]:  # from gemini - helps to clean money columns\n",
        "        for c in df.columns:\n",
        "            if c != \"TEAM_NAME\":\n",
        "                df[c] = clean_money_col(df[c])\n",
        "\n",
        "    out = cap_df.merge(tax_df, on=\"TEAM_NAME\", how=\"outer\") # merge the 3 small tables\n",
        "    out = out.merge(cash_df, on=\"TEAM_NAME\", how=\"outer\")\n",
        "\n",
        "    if \"Space\" in out.columns:                  # flag teams over luxury tax if space exists (<0 means over)\n",
        "        out[\"Over_Tax\"] = out[\"Space\"] < 0\n"
      ],
      "metadata": {
        "id": "ezhjr9PVXI_I"
      },
      "execution_count": 48,
      "outputs": []
    },
    {
      "cell_type": "code",
      "source": [
        "spend_21_22 = get_spending_for_season(season_code_21_22)\n",
        "spend_22_23 = get_spending_for_season(season_code_22_23)\n",
        "\n",
        "print(spend_21_22.head(5))\n",
        "print(spend_22_23.head(5))\n"
      ],
      "metadata": {
        "colab": {
          "base_uri": "https://localhost:8080/",
          "height": 356
        },
        "id": "ELPh7MaaXLOo",
        "outputId": "6810478a-d6d8-4b06-d175-88d370f8ba29"
      },
      "execution_count": 49,
      "outputs": [
        {
          "output_type": "error",
          "ename": "HTTPError",
          "evalue": "HTTP Error 403: Forbidden",
          "traceback": [
            "\u001b[0;31m---------------------------------------------------------------------------\u001b[0m",
            "\u001b[0;31mHTTPError\u001b[0m                                 Traceback (most recent call last)",
            "\u001b[0;32m/tmp/ipython-input-1182179454.py\u001b[0m in \u001b[0;36m<cell line: 0>\u001b[0;34m()\u001b[0m\n\u001b[0;32m----> 1\u001b[0;31m \u001b[0mspend_21_22\u001b[0m \u001b[0;34m=\u001b[0m \u001b[0mget_spending_for_season\u001b[0m\u001b[0;34m(\u001b[0m\u001b[0mseason_code_21_22\u001b[0m\u001b[0;34m)\u001b[0m\u001b[0;34m\u001b[0m\u001b[0;34m\u001b[0m\u001b[0m\n\u001b[0m\u001b[1;32m      2\u001b[0m \u001b[0mspend_22_23\u001b[0m \u001b[0;34m=\u001b[0m \u001b[0mget_spending_for_season\u001b[0m\u001b[0;34m(\u001b[0m\u001b[0mseason_code_22_23\u001b[0m\u001b[0;34m)\u001b[0m\u001b[0;34m\u001b[0m\u001b[0;34m\u001b[0m\u001b[0m\n\u001b[1;32m      3\u001b[0m \u001b[0;34m\u001b[0m\u001b[0m\n\u001b[1;32m      4\u001b[0m \u001b[0mprint\u001b[0m\u001b[0;34m(\u001b[0m\u001b[0mspend_21_22\u001b[0m\u001b[0;34m.\u001b[0m\u001b[0mhead\u001b[0m\u001b[0;34m(\u001b[0m\u001b[0;36m5\u001b[0m\u001b[0;34m)\u001b[0m\u001b[0;34m)\u001b[0m\u001b[0;34m\u001b[0m\u001b[0;34m\u001b[0m\u001b[0m\n\u001b[1;32m      5\u001b[0m \u001b[0mprint\u001b[0m\u001b[0;34m(\u001b[0m\u001b[0mspend_22_23\u001b[0m\u001b[0;34m.\u001b[0m\u001b[0mhead\u001b[0m\u001b[0;34m(\u001b[0m\u001b[0;36m5\u001b[0m\u001b[0;34m)\u001b[0m\u001b[0;34m)\u001b[0m\u001b[0;34m\u001b[0m\u001b[0;34m\u001b[0m\u001b[0m\n",
            "\u001b[0;32m/tmp/ipython-input-2501232533.py\u001b[0m in \u001b[0;36mget_spending_for_season\u001b[0;34m(season_code)\u001b[0m\n\u001b[1;32m      4\u001b[0m     \u001b[0mcash_url\u001b[0m \u001b[0;34m=\u001b[0m \u001b[0;34mf\"https://www.spotrac.com/nba/cash/_/year/{season_code}\"\u001b[0m\u001b[0;34m\u001b[0m\u001b[0;34m\u001b[0m\u001b[0m\n\u001b[1;32m      5\u001b[0m \u001b[0;34m\u001b[0m\u001b[0m\n\u001b[0;32m----> 6\u001b[0;31m     \u001b[0mcap_df\u001b[0m  \u001b[0;34m=\u001b[0m \u001b[0mread_spotrac_table\u001b[0m\u001b[0;34m(\u001b[0m\u001b[0mcap_url\u001b[0m\u001b[0;34m)\u001b[0m\u001b[0;34m;\u001b[0m  \u001b[0mtime\u001b[0m\u001b[0;34m.\u001b[0m\u001b[0msleep\u001b[0m\u001b[0;34m(\u001b[0m\u001b[0;36m1\u001b[0m\u001b[0;34m)\u001b[0m \u001b[0;31m# read tables\u001b[0m\u001b[0;34m\u001b[0m\u001b[0;34m\u001b[0m\u001b[0m\n\u001b[0m\u001b[1;32m      7\u001b[0m     \u001b[0mtax_df\u001b[0m  \u001b[0;34m=\u001b[0m \u001b[0mread_spotrac_table\u001b[0m\u001b[0;34m(\u001b[0m\u001b[0mtax_url\u001b[0m\u001b[0;34m)\u001b[0m\u001b[0;34m;\u001b[0m  \u001b[0mtime\u001b[0m\u001b[0;34m.\u001b[0m\u001b[0msleep\u001b[0m\u001b[0;34m(\u001b[0m\u001b[0;36m1\u001b[0m\u001b[0;34m)\u001b[0m\u001b[0;34m\u001b[0m\u001b[0;34m\u001b[0m\u001b[0m\n\u001b[1;32m      8\u001b[0m     \u001b[0mcash_df\u001b[0m \u001b[0;34m=\u001b[0m \u001b[0mread_spotrac_table\u001b[0m\u001b[0;34m(\u001b[0m\u001b[0mcash_url\u001b[0m\u001b[0;34m)\u001b[0m\u001b[0;34m;\u001b[0m \u001b[0mtime\u001b[0m\u001b[0;34m.\u001b[0m\u001b[0msleep\u001b[0m\u001b[0;34m(\u001b[0m\u001b[0;36m1\u001b[0m\u001b[0;34m)\u001b[0m\u001b[0;34m\u001b[0m\u001b[0;34m\u001b[0m\u001b[0m\n",
            "\u001b[0;32m/tmp/ipython-input-595732215.py\u001b[0m in \u001b[0;36mread_spotrac_table\u001b[0;34m(url)\u001b[0m\n\u001b[1;32m      5\u001b[0m \u001b[0;31m# small helper to read the main Spotrac table from a page\u001b[0m\u001b[0;34m\u001b[0m\u001b[0;34m\u001b[0m\u001b[0m\n\u001b[1;32m      6\u001b[0m \u001b[0;32mdef\u001b[0m \u001b[0mread_spotrac_table\u001b[0m\u001b[0;34m(\u001b[0m\u001b[0murl\u001b[0m\u001b[0;34m)\u001b[0m\u001b[0;34m:\u001b[0m\u001b[0;34m\u001b[0m\u001b[0;34m\u001b[0m\u001b[0m\n\u001b[0;32m----> 7\u001b[0;31m     \u001b[0mtables\u001b[0m \u001b[0;34m=\u001b[0m \u001b[0mpd\u001b[0m\u001b[0;34m.\u001b[0m\u001b[0mread_html\u001b[0m\u001b[0;34m(\u001b[0m\u001b[0murl\u001b[0m\u001b[0;34m)\u001b[0m\u001b[0;34m\u001b[0m\u001b[0;34m\u001b[0m\u001b[0m\n\u001b[0m\u001b[1;32m      8\u001b[0m \u001b[0;34m\u001b[0m\u001b[0m\n\u001b[1;32m      9\u001b[0m \u001b[0;31m# very simple money cleaner\u001b[0m\u001b[0;34m\u001b[0m\u001b[0;34m\u001b[0m\u001b[0m\n",
            "\u001b[0;32m/usr/local/lib/python3.12/dist-packages/pandas/io/html.py\u001b[0m in \u001b[0;36mread_html\u001b[0;34m(io, match, flavor, header, index_col, skiprows, attrs, parse_dates, thousands, encoding, decimal, converters, na_values, keep_default_na, displayed_only, extract_links, dtype_backend, storage_options)\u001b[0m\n\u001b[1;32m   1238\u001b[0m         )\n\u001b[1;32m   1239\u001b[0m \u001b[0;34m\u001b[0m\u001b[0m\n\u001b[0;32m-> 1240\u001b[0;31m     return _parse(\n\u001b[0m\u001b[1;32m   1241\u001b[0m         \u001b[0mflavor\u001b[0m\u001b[0;34m=\u001b[0m\u001b[0mflavor\u001b[0m\u001b[0;34m,\u001b[0m\u001b[0;34m\u001b[0m\u001b[0;34m\u001b[0m\u001b[0m\n\u001b[1;32m   1242\u001b[0m         \u001b[0mio\u001b[0m\u001b[0;34m=\u001b[0m\u001b[0mio\u001b[0m\u001b[0;34m,\u001b[0m\u001b[0;34m\u001b[0m\u001b[0;34m\u001b[0m\u001b[0m\n",
            "\u001b[0;32m/usr/local/lib/python3.12/dist-packages/pandas/io/html.py\u001b[0m in \u001b[0;36m_parse\u001b[0;34m(flavor, io, match, attrs, encoding, displayed_only, extract_links, storage_options, **kwargs)\u001b[0m\n\u001b[1;32m    981\u001b[0m \u001b[0;34m\u001b[0m\u001b[0m\n\u001b[1;32m    982\u001b[0m         \u001b[0;32mtry\u001b[0m\u001b[0;34m:\u001b[0m\u001b[0;34m\u001b[0m\u001b[0;34m\u001b[0m\u001b[0m\n\u001b[0;32m--> 983\u001b[0;31m             \u001b[0mtables\u001b[0m \u001b[0;34m=\u001b[0m \u001b[0mp\u001b[0m\u001b[0;34m.\u001b[0m\u001b[0mparse_tables\u001b[0m\u001b[0;34m(\u001b[0m\u001b[0;34m)\u001b[0m\u001b[0;34m\u001b[0m\u001b[0;34m\u001b[0m\u001b[0m\n\u001b[0m\u001b[1;32m    984\u001b[0m         \u001b[0;32mexcept\u001b[0m \u001b[0mValueError\u001b[0m \u001b[0;32mas\u001b[0m \u001b[0mcaught\u001b[0m\u001b[0;34m:\u001b[0m\u001b[0;34m\u001b[0m\u001b[0;34m\u001b[0m\u001b[0m\n\u001b[1;32m    985\u001b[0m             \u001b[0;31m# if `io` is an io-like object, check if it's seekable\u001b[0m\u001b[0;34m\u001b[0m\u001b[0;34m\u001b[0m\u001b[0m\n",
            "\u001b[0;32m/usr/local/lib/python3.12/dist-packages/pandas/io/html.py\u001b[0m in \u001b[0;36mparse_tables\u001b[0;34m(self)\u001b[0m\n\u001b[1;32m    247\u001b[0m         \u001b[0mlist\u001b[0m \u001b[0mof\u001b[0m \u001b[0mparsed\u001b[0m \u001b[0;34m(\u001b[0m\u001b[0mheader\u001b[0m\u001b[0;34m,\u001b[0m \u001b[0mbody\u001b[0m\u001b[0;34m,\u001b[0m \u001b[0mfooter\u001b[0m\u001b[0;34m)\u001b[0m \u001b[0mtuples\u001b[0m \u001b[0;32mfrom\u001b[0m \u001b[0mtables\u001b[0m\u001b[0;34m.\u001b[0m\u001b[0;34m\u001b[0m\u001b[0;34m\u001b[0m\u001b[0m\n\u001b[1;32m    248\u001b[0m         \"\"\"\n\u001b[0;32m--> 249\u001b[0;31m         \u001b[0mtables\u001b[0m \u001b[0;34m=\u001b[0m \u001b[0mself\u001b[0m\u001b[0;34m.\u001b[0m\u001b[0m_parse_tables\u001b[0m\u001b[0;34m(\u001b[0m\u001b[0mself\u001b[0m\u001b[0;34m.\u001b[0m\u001b[0m_build_doc\u001b[0m\u001b[0;34m(\u001b[0m\u001b[0;34m)\u001b[0m\u001b[0;34m,\u001b[0m \u001b[0mself\u001b[0m\u001b[0;34m.\u001b[0m\u001b[0mmatch\u001b[0m\u001b[0;34m,\u001b[0m \u001b[0mself\u001b[0m\u001b[0;34m.\u001b[0m\u001b[0mattrs\u001b[0m\u001b[0;34m)\u001b[0m\u001b[0;34m\u001b[0m\u001b[0;34m\u001b[0m\u001b[0m\n\u001b[0m\u001b[1;32m    250\u001b[0m         \u001b[0;32mreturn\u001b[0m \u001b[0;34m(\u001b[0m\u001b[0mself\u001b[0m\u001b[0;34m.\u001b[0m\u001b[0m_parse_thead_tbody_tfoot\u001b[0m\u001b[0;34m(\u001b[0m\u001b[0mtable\u001b[0m\u001b[0;34m)\u001b[0m \u001b[0;32mfor\u001b[0m \u001b[0mtable\u001b[0m \u001b[0;32min\u001b[0m \u001b[0mtables\u001b[0m\u001b[0;34m)\u001b[0m\u001b[0;34m\u001b[0m\u001b[0;34m\u001b[0m\u001b[0m\n\u001b[1;32m    251\u001b[0m \u001b[0;34m\u001b[0m\u001b[0m\n",
            "\u001b[0;32m/usr/local/lib/python3.12/dist-packages/pandas/io/html.py\u001b[0m in \u001b[0;36m_build_doc\u001b[0;34m(self)\u001b[0m\n\u001b[1;32m    804\u001b[0m                     \u001b[0;32mpass\u001b[0m\u001b[0;34m\u001b[0m\u001b[0;34m\u001b[0m\u001b[0m\n\u001b[1;32m    805\u001b[0m             \u001b[0;32melse\u001b[0m\u001b[0;34m:\u001b[0m\u001b[0;34m\u001b[0m\u001b[0;34m\u001b[0m\u001b[0m\n\u001b[0;32m--> 806\u001b[0;31m                 \u001b[0;32mraise\u001b[0m \u001b[0me\u001b[0m\u001b[0;34m\u001b[0m\u001b[0;34m\u001b[0m\u001b[0m\n\u001b[0m\u001b[1;32m    807\u001b[0m         \u001b[0;32melse\u001b[0m\u001b[0;34m:\u001b[0m\u001b[0;34m\u001b[0m\u001b[0;34m\u001b[0m\u001b[0m\n\u001b[1;32m    808\u001b[0m             \u001b[0;32mif\u001b[0m \u001b[0;32mnot\u001b[0m \u001b[0mhasattr\u001b[0m\u001b[0;34m(\u001b[0m\u001b[0mr\u001b[0m\u001b[0;34m,\u001b[0m \u001b[0;34m\"text_content\"\u001b[0m\u001b[0;34m)\u001b[0m\u001b[0;34m:\u001b[0m\u001b[0;34m\u001b[0m\u001b[0;34m\u001b[0m\u001b[0m\n",
            "\u001b[0;32m/usr/local/lib/python3.12/dist-packages/pandas/io/html.py\u001b[0m in \u001b[0;36m_build_doc\u001b[0;34m(self)\u001b[0m\n\u001b[1;32m    783\u001b[0m         \u001b[0;32mtry\u001b[0m\u001b[0;34m:\u001b[0m\u001b[0;34m\u001b[0m\u001b[0;34m\u001b[0m\u001b[0m\n\u001b[1;32m    784\u001b[0m             \u001b[0;32mif\u001b[0m \u001b[0mis_url\u001b[0m\u001b[0;34m(\u001b[0m\u001b[0mself\u001b[0m\u001b[0;34m.\u001b[0m\u001b[0mio\u001b[0m\u001b[0;34m)\u001b[0m\u001b[0;34m:\u001b[0m\u001b[0;34m\u001b[0m\u001b[0;34m\u001b[0m\u001b[0m\n\u001b[0;32m--> 785\u001b[0;31m                 with get_handle(\n\u001b[0m\u001b[1;32m    786\u001b[0m                     \u001b[0mself\u001b[0m\u001b[0;34m.\u001b[0m\u001b[0mio\u001b[0m\u001b[0;34m,\u001b[0m \u001b[0;34m\"r\"\u001b[0m\u001b[0;34m,\u001b[0m \u001b[0mstorage_options\u001b[0m\u001b[0;34m=\u001b[0m\u001b[0mself\u001b[0m\u001b[0;34m.\u001b[0m\u001b[0mstorage_options\u001b[0m\u001b[0;34m\u001b[0m\u001b[0;34m\u001b[0m\u001b[0m\n\u001b[1;32m    787\u001b[0m                 ) as f:\n",
            "\u001b[0;32m/usr/local/lib/python3.12/dist-packages/pandas/io/common.py\u001b[0m in \u001b[0;36mget_handle\u001b[0;34m(path_or_buf, mode, encoding, compression, memory_map, is_text, errors, storage_options)\u001b[0m\n\u001b[1;32m    726\u001b[0m \u001b[0;34m\u001b[0m\u001b[0m\n\u001b[1;32m    727\u001b[0m     \u001b[0;31m# open URLs\u001b[0m\u001b[0;34m\u001b[0m\u001b[0;34m\u001b[0m\u001b[0m\n\u001b[0;32m--> 728\u001b[0;31m     ioargs = _get_filepath_or_buffer(\n\u001b[0m\u001b[1;32m    729\u001b[0m         \u001b[0mpath_or_buf\u001b[0m\u001b[0;34m,\u001b[0m\u001b[0;34m\u001b[0m\u001b[0;34m\u001b[0m\u001b[0m\n\u001b[1;32m    730\u001b[0m         \u001b[0mencoding\u001b[0m\u001b[0;34m=\u001b[0m\u001b[0mencoding\u001b[0m\u001b[0;34m,\u001b[0m\u001b[0;34m\u001b[0m\u001b[0;34m\u001b[0m\u001b[0m\n",
            "\u001b[0;32m/usr/local/lib/python3.12/dist-packages/pandas/io/common.py\u001b[0m in \u001b[0;36m_get_filepath_or_buffer\u001b[0;34m(filepath_or_buffer, encoding, compression, mode, storage_options)\u001b[0m\n\u001b[1;32m    382\u001b[0m         \u001b[0;31m# assuming storage_options is to be interpreted as headers\u001b[0m\u001b[0;34m\u001b[0m\u001b[0;34m\u001b[0m\u001b[0m\n\u001b[1;32m    383\u001b[0m         \u001b[0mreq_info\u001b[0m \u001b[0;34m=\u001b[0m \u001b[0murllib\u001b[0m\u001b[0;34m.\u001b[0m\u001b[0mrequest\u001b[0m\u001b[0;34m.\u001b[0m\u001b[0mRequest\u001b[0m\u001b[0;34m(\u001b[0m\u001b[0mfilepath_or_buffer\u001b[0m\u001b[0;34m,\u001b[0m \u001b[0mheaders\u001b[0m\u001b[0;34m=\u001b[0m\u001b[0mstorage_options\u001b[0m\u001b[0;34m)\u001b[0m\u001b[0;34m\u001b[0m\u001b[0;34m\u001b[0m\u001b[0m\n\u001b[0;32m--> 384\u001b[0;31m         \u001b[0;32mwith\u001b[0m \u001b[0murlopen\u001b[0m\u001b[0;34m(\u001b[0m\u001b[0mreq_info\u001b[0m\u001b[0;34m)\u001b[0m \u001b[0;32mas\u001b[0m \u001b[0mreq\u001b[0m\u001b[0;34m:\u001b[0m\u001b[0;34m\u001b[0m\u001b[0;34m\u001b[0m\u001b[0m\n\u001b[0m\u001b[1;32m    385\u001b[0m             \u001b[0mcontent_encoding\u001b[0m \u001b[0;34m=\u001b[0m \u001b[0mreq\u001b[0m\u001b[0;34m.\u001b[0m\u001b[0mheaders\u001b[0m\u001b[0;34m.\u001b[0m\u001b[0mget\u001b[0m\u001b[0;34m(\u001b[0m\u001b[0;34m\"Content-Encoding\"\u001b[0m\u001b[0;34m,\u001b[0m \u001b[0;32mNone\u001b[0m\u001b[0;34m)\u001b[0m\u001b[0;34m\u001b[0m\u001b[0;34m\u001b[0m\u001b[0m\n\u001b[1;32m    386\u001b[0m             \u001b[0;32mif\u001b[0m \u001b[0mcontent_encoding\u001b[0m \u001b[0;34m==\u001b[0m \u001b[0;34m\"gzip\"\u001b[0m\u001b[0;34m:\u001b[0m\u001b[0;34m\u001b[0m\u001b[0;34m\u001b[0m\u001b[0m\n",
            "\u001b[0;32m/usr/local/lib/python3.12/dist-packages/pandas/io/common.py\u001b[0m in \u001b[0;36murlopen\u001b[0;34m(*args, **kwargs)\u001b[0m\n\u001b[1;32m    287\u001b[0m     \u001b[0;32mimport\u001b[0m \u001b[0murllib\u001b[0m\u001b[0;34m.\u001b[0m\u001b[0mrequest\u001b[0m\u001b[0;34m\u001b[0m\u001b[0;34m\u001b[0m\u001b[0m\n\u001b[1;32m    288\u001b[0m \u001b[0;34m\u001b[0m\u001b[0m\n\u001b[0;32m--> 289\u001b[0;31m     \u001b[0;32mreturn\u001b[0m \u001b[0murllib\u001b[0m\u001b[0;34m.\u001b[0m\u001b[0mrequest\u001b[0m\u001b[0;34m.\u001b[0m\u001b[0murlopen\u001b[0m\u001b[0;34m(\u001b[0m\u001b[0;34m*\u001b[0m\u001b[0margs\u001b[0m\u001b[0;34m,\u001b[0m \u001b[0;34m**\u001b[0m\u001b[0mkwargs\u001b[0m\u001b[0;34m)\u001b[0m\u001b[0;34m\u001b[0m\u001b[0;34m\u001b[0m\u001b[0m\n\u001b[0m\u001b[1;32m    290\u001b[0m \u001b[0;34m\u001b[0m\u001b[0m\n\u001b[1;32m    291\u001b[0m \u001b[0;34m\u001b[0m\u001b[0m\n",
            "\u001b[0;32m/usr/lib/python3.12/urllib/request.py\u001b[0m in \u001b[0;36murlopen\u001b[0;34m(url, data, timeout, cafile, capath, cadefault, context)\u001b[0m\n\u001b[1;32m    213\u001b[0m     \u001b[0;32melse\u001b[0m\u001b[0;34m:\u001b[0m\u001b[0;34m\u001b[0m\u001b[0;34m\u001b[0m\u001b[0m\n\u001b[1;32m    214\u001b[0m         \u001b[0mopener\u001b[0m \u001b[0;34m=\u001b[0m \u001b[0m_opener\u001b[0m\u001b[0;34m\u001b[0m\u001b[0;34m\u001b[0m\u001b[0m\n\u001b[0;32m--> 215\u001b[0;31m     \u001b[0;32mreturn\u001b[0m \u001b[0mopener\u001b[0m\u001b[0;34m.\u001b[0m\u001b[0mopen\u001b[0m\u001b[0;34m(\u001b[0m\u001b[0murl\u001b[0m\u001b[0;34m,\u001b[0m \u001b[0mdata\u001b[0m\u001b[0;34m,\u001b[0m \u001b[0mtimeout\u001b[0m\u001b[0;34m)\u001b[0m\u001b[0;34m\u001b[0m\u001b[0;34m\u001b[0m\u001b[0m\n\u001b[0m\u001b[1;32m    216\u001b[0m \u001b[0;34m\u001b[0m\u001b[0m\n\u001b[1;32m    217\u001b[0m \u001b[0;32mdef\u001b[0m \u001b[0minstall_opener\u001b[0m\u001b[0;34m(\u001b[0m\u001b[0mopener\u001b[0m\u001b[0;34m)\u001b[0m\u001b[0;34m:\u001b[0m\u001b[0;34m\u001b[0m\u001b[0;34m\u001b[0m\u001b[0m\n",
            "\u001b[0;32m/usr/lib/python3.12/urllib/request.py\u001b[0m in \u001b[0;36mopen\u001b[0;34m(self, fullurl, data, timeout)\u001b[0m\n\u001b[1;32m    519\u001b[0m         \u001b[0;32mfor\u001b[0m \u001b[0mprocessor\u001b[0m \u001b[0;32min\u001b[0m \u001b[0mself\u001b[0m\u001b[0;34m.\u001b[0m\u001b[0mprocess_response\u001b[0m\u001b[0;34m.\u001b[0m\u001b[0mget\u001b[0m\u001b[0;34m(\u001b[0m\u001b[0mprotocol\u001b[0m\u001b[0;34m,\u001b[0m \u001b[0;34m[\u001b[0m\u001b[0;34m]\u001b[0m\u001b[0;34m)\u001b[0m\u001b[0;34m:\u001b[0m\u001b[0;34m\u001b[0m\u001b[0;34m\u001b[0m\u001b[0m\n\u001b[1;32m    520\u001b[0m             \u001b[0mmeth\u001b[0m \u001b[0;34m=\u001b[0m \u001b[0mgetattr\u001b[0m\u001b[0;34m(\u001b[0m\u001b[0mprocessor\u001b[0m\u001b[0;34m,\u001b[0m \u001b[0mmeth_name\u001b[0m\u001b[0;34m)\u001b[0m\u001b[0;34m\u001b[0m\u001b[0;34m\u001b[0m\u001b[0m\n\u001b[0;32m--> 521\u001b[0;31m             \u001b[0mresponse\u001b[0m \u001b[0;34m=\u001b[0m \u001b[0mmeth\u001b[0m\u001b[0;34m(\u001b[0m\u001b[0mreq\u001b[0m\u001b[0;34m,\u001b[0m \u001b[0mresponse\u001b[0m\u001b[0;34m)\u001b[0m\u001b[0;34m\u001b[0m\u001b[0;34m\u001b[0m\u001b[0m\n\u001b[0m\u001b[1;32m    522\u001b[0m \u001b[0;34m\u001b[0m\u001b[0m\n\u001b[1;32m    523\u001b[0m         \u001b[0;32mreturn\u001b[0m \u001b[0mresponse\u001b[0m\u001b[0;34m\u001b[0m\u001b[0;34m\u001b[0m\u001b[0m\n",
            "\u001b[0;32m/usr/lib/python3.12/urllib/request.py\u001b[0m in \u001b[0;36mhttp_response\u001b[0;34m(self, request, response)\u001b[0m\n\u001b[1;32m    628\u001b[0m         \u001b[0;31m# request was successfully received, understood, and accepted.\u001b[0m\u001b[0;34m\u001b[0m\u001b[0;34m\u001b[0m\u001b[0m\n\u001b[1;32m    629\u001b[0m         \u001b[0;32mif\u001b[0m \u001b[0;32mnot\u001b[0m \u001b[0;34m(\u001b[0m\u001b[0;36m200\u001b[0m \u001b[0;34m<=\u001b[0m \u001b[0mcode\u001b[0m \u001b[0;34m<\u001b[0m \u001b[0;36m300\u001b[0m\u001b[0;34m)\u001b[0m\u001b[0;34m:\u001b[0m\u001b[0;34m\u001b[0m\u001b[0;34m\u001b[0m\u001b[0m\n\u001b[0;32m--> 630\u001b[0;31m             response = self.parent.error(\n\u001b[0m\u001b[1;32m    631\u001b[0m                 'http', request, response, code, msg, hdrs)\n\u001b[1;32m    632\u001b[0m \u001b[0;34m\u001b[0m\u001b[0m\n",
            "\u001b[0;32m/usr/lib/python3.12/urllib/request.py\u001b[0m in \u001b[0;36merror\u001b[0;34m(self, proto, *args)\u001b[0m\n\u001b[1;32m    557\u001b[0m         \u001b[0;32mif\u001b[0m \u001b[0mhttp_err\u001b[0m\u001b[0;34m:\u001b[0m\u001b[0;34m\u001b[0m\u001b[0;34m\u001b[0m\u001b[0m\n\u001b[1;32m    558\u001b[0m             \u001b[0margs\u001b[0m \u001b[0;34m=\u001b[0m \u001b[0;34m(\u001b[0m\u001b[0mdict\u001b[0m\u001b[0;34m,\u001b[0m \u001b[0;34m'default'\u001b[0m\u001b[0;34m,\u001b[0m \u001b[0;34m'http_error_default'\u001b[0m\u001b[0;34m)\u001b[0m \u001b[0;34m+\u001b[0m \u001b[0morig_args\u001b[0m\u001b[0;34m\u001b[0m\u001b[0;34m\u001b[0m\u001b[0m\n\u001b[0;32m--> 559\u001b[0;31m             \u001b[0;32mreturn\u001b[0m \u001b[0mself\u001b[0m\u001b[0;34m.\u001b[0m\u001b[0m_call_chain\u001b[0m\u001b[0;34m(\u001b[0m\u001b[0;34m*\u001b[0m\u001b[0margs\u001b[0m\u001b[0;34m)\u001b[0m\u001b[0;34m\u001b[0m\u001b[0;34m\u001b[0m\u001b[0m\n\u001b[0m\u001b[1;32m    560\u001b[0m \u001b[0;34m\u001b[0m\u001b[0m\n\u001b[1;32m    561\u001b[0m \u001b[0;31m# XXX probably also want an abstract factory that knows when it makes\u001b[0m\u001b[0;34m\u001b[0m\u001b[0;34m\u001b[0m\u001b[0m\n",
            "\u001b[0;32m/usr/lib/python3.12/urllib/request.py\u001b[0m in \u001b[0;36m_call_chain\u001b[0;34m(self, chain, kind, meth_name, *args)\u001b[0m\n\u001b[1;32m    490\u001b[0m         \u001b[0;32mfor\u001b[0m \u001b[0mhandler\u001b[0m \u001b[0;32min\u001b[0m \u001b[0mhandlers\u001b[0m\u001b[0;34m:\u001b[0m\u001b[0;34m\u001b[0m\u001b[0;34m\u001b[0m\u001b[0m\n\u001b[1;32m    491\u001b[0m             \u001b[0mfunc\u001b[0m \u001b[0;34m=\u001b[0m \u001b[0mgetattr\u001b[0m\u001b[0;34m(\u001b[0m\u001b[0mhandler\u001b[0m\u001b[0;34m,\u001b[0m \u001b[0mmeth_name\u001b[0m\u001b[0;34m)\u001b[0m\u001b[0;34m\u001b[0m\u001b[0;34m\u001b[0m\u001b[0m\n\u001b[0;32m--> 492\u001b[0;31m             \u001b[0mresult\u001b[0m \u001b[0;34m=\u001b[0m \u001b[0mfunc\u001b[0m\u001b[0;34m(\u001b[0m\u001b[0;34m*\u001b[0m\u001b[0margs\u001b[0m\u001b[0;34m)\u001b[0m\u001b[0;34m\u001b[0m\u001b[0;34m\u001b[0m\u001b[0m\n\u001b[0m\u001b[1;32m    493\u001b[0m             \u001b[0;32mif\u001b[0m \u001b[0mresult\u001b[0m \u001b[0;32mis\u001b[0m \u001b[0;32mnot\u001b[0m \u001b[0;32mNone\u001b[0m\u001b[0;34m:\u001b[0m\u001b[0;34m\u001b[0m\u001b[0;34m\u001b[0m\u001b[0m\n\u001b[1;32m    494\u001b[0m                 \u001b[0;32mreturn\u001b[0m \u001b[0mresult\u001b[0m\u001b[0;34m\u001b[0m\u001b[0;34m\u001b[0m\u001b[0m\n",
            "\u001b[0;32m/usr/lib/python3.12/urllib/request.py\u001b[0m in \u001b[0;36mhttp_error_default\u001b[0;34m(self, req, fp, code, msg, hdrs)\u001b[0m\n\u001b[1;32m    637\u001b[0m \u001b[0;32mclass\u001b[0m \u001b[0mHTTPDefaultErrorHandler\u001b[0m\u001b[0;34m(\u001b[0m\u001b[0mBaseHandler\u001b[0m\u001b[0;34m)\u001b[0m\u001b[0;34m:\u001b[0m\u001b[0;34m\u001b[0m\u001b[0;34m\u001b[0m\u001b[0m\n\u001b[1;32m    638\u001b[0m     \u001b[0;32mdef\u001b[0m \u001b[0mhttp_error_default\u001b[0m\u001b[0;34m(\u001b[0m\u001b[0mself\u001b[0m\u001b[0;34m,\u001b[0m \u001b[0mreq\u001b[0m\u001b[0;34m,\u001b[0m \u001b[0mfp\u001b[0m\u001b[0;34m,\u001b[0m \u001b[0mcode\u001b[0m\u001b[0;34m,\u001b[0m \u001b[0mmsg\u001b[0m\u001b[0;34m,\u001b[0m \u001b[0mhdrs\u001b[0m\u001b[0;34m)\u001b[0m\u001b[0;34m:\u001b[0m\u001b[0;34m\u001b[0m\u001b[0;34m\u001b[0m\u001b[0m\n\u001b[0;32m--> 639\u001b[0;31m         \u001b[0;32mraise\u001b[0m \u001b[0mHTTPError\u001b[0m\u001b[0;34m(\u001b[0m\u001b[0mreq\u001b[0m\u001b[0;34m.\u001b[0m\u001b[0mfull_url\u001b[0m\u001b[0;34m,\u001b[0m \u001b[0mcode\u001b[0m\u001b[0;34m,\u001b[0m \u001b[0mmsg\u001b[0m\u001b[0;34m,\u001b[0m \u001b[0mhdrs\u001b[0m\u001b[0;34m,\u001b[0m \u001b[0mfp\u001b[0m\u001b[0;34m)\u001b[0m\u001b[0;34m\u001b[0m\u001b[0;34m\u001b[0m\u001b[0m\n\u001b[0m\u001b[1;32m    640\u001b[0m \u001b[0;34m\u001b[0m\u001b[0m\n\u001b[1;32m    641\u001b[0m \u001b[0;32mclass\u001b[0m \u001b[0mHTTPRedirectHandler\u001b[0m\u001b[0;34m(\u001b[0m\u001b[0mBaseHandler\u001b[0m\u001b[0;34m)\u001b[0m\u001b[0;34m:\u001b[0m\u001b[0;34m\u001b[0m\u001b[0;34m\u001b[0m\u001b[0m\n",
            "\u001b[0;31mHTTPError\u001b[0m: HTTP Error 403: Forbidden"
          ]
        }
      ]
    },
    {
      "cell_type": "code",
      "source": [
        "NBA21_22 = pd.merge(advStatsNBA21_22df_slim, DEFstatsNBA21_22df_slim, on='TEAM_NAME', how='left')\n",
        "NBA21_22['Average Age'] = age_df['age']\n",
        "NBA21_22['W_PCT_2023'] = advStatsNBA22_23df_slim['W_PCT']\n"
      ],
      "metadata": {
        "id": "m7Ghfc1OXRfI"
      },
      "execution_count": 43,
      "outputs": []
    },
    {
      "cell_type": "code",
      "source": [
        "# pick a small set of columns to add from spend_21_22\n",
        "cols_to_add = [c for c in [\"TEAM_NAME\", \"Active\", \"Dead\", \"Retained\",\n",
        "                           \"Cap Space All\", \"Space\", \"Tax Bill\",\n",
        "                           \"Total Tax Payroll + Bill\", \"Total Cash\", \"Over_Tax\"]\n",
        "               if c in spend_21_22.columns]\n",
        "\n",
        "NBA21_22 = NBA21_22.merge(spend_21_22[cols_to_add], on=\"TEAM_NAME\", how=\"left\")\n",
        "\n",
        "print(NBA21_22.head(10))\n"
      ],
      "metadata": {
        "colab": {
          "base_uri": "https://localhost:8080/"
        },
        "id": "idzHBcEJXUJe",
        "outputId": "f085dd37-7ebb-4068-e520-5351de1f1308"
      },
      "execution_count": 44,
      "outputs": [
        {
          "output_type": "stream",
          "name": "stdout",
          "text": [
            "               TEAM_NAME  W_PCT  OFF_RATING  DEF_RATING  NET_RATING  AST_PCT  AST_TO  OREB_PCT  DREB_PCT  EFG_PCT  TS_PCT    PACE  OPP_FG_PCT  OPP_FG3_PCT  OPP_TOV  OPP_BLK  PLUS_MINUS  Average Age  W_PCT_2023  Active  Cap Space All  Space  Tax Bill  Total Tax Payroll + Bill  Total Cash Over_Tax\n",
            "0          Atlanta Hawks  0.517       114.8       113.5         1.3    0.596    2.02     0.270     0.727    0.542   0.579   98.71       0.468        0.362     13.0      4.5        -1.2    26.142857       0.494     NaN            NaN    NaN       NaN                       NaN         NaN      NaN\n",
            "1         Boston Celtics  0.632       113.2       105.6         7.6    0.613    1.80     0.276     0.725    0.543   0.578   97.69       0.433        0.336     14.2      4.7        -7.6    28.470588       0.690     NaN            NaN    NaN       NaN                       NaN         NaN      NaN\n",
            "2          Brooklyn Nets  0.540       112.3       111.6         0.8    0.596    1.72     0.287     0.703    0.533   0.571   99.78       0.450        0.343     13.6      5.1        -0.6    27.227273       0.552     NaN            NaN    NaN       NaN                       NaN         NaN      NaN\n",
            "3      Charlotte Hornets  0.494       112.8       112.8         0.0    0.654    2.01     0.276     0.703    0.541   0.570  100.63       0.466        0.359     14.9      4.7         0.1    25.117647       0.333     NaN            NaN    NaN       NaN                       NaN         NaN      NaN\n",
            "4          Chicago Bulls  0.552       111.8       112.4        -0.6    0.572    1.82     0.253     0.733    0.535   0.573   99.09       0.470        0.360     13.3      5.2         0.5    25.650000       0.506     NaN            NaN    NaN       NaN                       NaN         NaN      NaN\n",
            "5    Cleveland Cavaliers  0.529       110.5       108.7         1.8    0.631    1.73     0.278     0.720    0.534   0.568   97.04       0.450        0.352     13.9      4.8        -1.9    26.045455       0.621     NaN            NaN    NaN       NaN                       NaN         NaN      NaN\n",
            "6       Dallas Mavericks  0.609       111.6       108.8         2.8    0.593    1.82     0.259     0.729    0.534   0.567   95.68       0.456        0.340     13.8      4.1        -2.8    27.095238       0.437     NaN            NaN    NaN       NaN                       NaN         NaN      NaN\n",
            "7         Denver Nuggets  0.575       113.0       111.3         1.7    0.663    1.86     0.269     0.747    0.553   0.586   98.67       0.469        0.348     13.3      4.8        -1.7    27.200000       0.632     NaN            NaN    NaN       NaN                       NaN         NaN      NaN\n",
            "8        Detroit Pistons  0.299       105.4       112.7        -7.3    0.611    1.61     0.277     0.705    0.495   0.533   99.05       0.469        0.360     14.7      5.3         7.4    24.520000       0.230     NaN            NaN    NaN       NaN                       NaN         NaN      NaN\n",
            "9  Golden State Warriors  0.629       111.0       105.9         5.1    0.664    1.77     0.270     0.731    0.547   0.577   99.12       0.436        0.338     15.0      4.0        -5.2    28.250000       0.500     NaN            NaN    NaN       NaN                       NaN         NaN      NaN\n"
          ]
        }
      ]
    },
    {
      "cell_type": "markdown",
      "source": [
        "### Not sure why the fucntion returns NaN and not the numerical figures"
      ],
      "metadata": {
        "id": "U52x10Y7Yr-3"
      }
    },
    {
      "cell_type": "code",
      "source": [],
      "metadata": {
        "id": "avhJMOL1YlzR"
      },
      "execution_count": null,
      "outputs": []
    },
    {
      "cell_type": "code",
      "source": [],
      "metadata": {
        "id": "oYraaU15Yri-"
      },
      "execution_count": null,
      "outputs": []
    }
  ]
}
